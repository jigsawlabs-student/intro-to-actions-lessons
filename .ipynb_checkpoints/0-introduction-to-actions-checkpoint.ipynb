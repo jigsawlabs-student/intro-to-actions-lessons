{
 "cells": [
  {
   "cell_type": "markdown",
   "metadata": {},
   "source": [
    "# Continuous Integration Github Actions"
   ]
  },
  {
   "cell_type": "markdown",
   "metadata": {},
   "source": [
    "### Introduction"
   ]
  },
  {
   "cell_type": "markdown",
   "metadata": {},
   "source": [
    "So far we have seen the importance of writing and running tests with each commit that we make.  In this lesson, we'll learn how to use Github actions to automatically run the tests in our codebase whenever we push to github.  \n",
    "\n",
    "Let's get started."
   ]
  },
  {
   "cell_type": "markdown",
   "metadata": {},
   "source": [
    "### Starting with Github Actions"
   ]
  },
  {
   "cell_type": "markdown",
   "metadata": {},
   "source": [
    "We can get started with github actions by creating a Github repository and then clicking on the `actions` tab."
   ]
  },
  {
   "cell_type": "markdown",
   "metadata": {},
   "source": [
    "<img src=\"./github-actions-intro.png\" width=\"60%\">"
   ]
  },
  {
   "cell_type": "markdown",
   "metadata": {},
   "source": [
    "Then we'll click on `set up a workflow yourself` to create our own workflow from scratch.  The workflow that Github starts us off with isn't bad.  Let's take a look at it."
   ]
  },
  {
   "cell_type": "markdown",
   "metadata": {},
   "source": [
    "### Seeing our first actions"
   ]
  },
  {
   "cell_type": "markdown",
   "metadata": {},
   "source": [
    "Below is a simplified version of the default `main.yml` file provided by github.  The main.yml file specifies what occurs when our github repository receives a push event to the `main` branch."
   ]
  },
  {
   "cell_type": "markdown",
   "metadata": {},
   "source": [
    "```yaml\n",
    "# main.yml\n",
    "name: CI\n",
    "on:\n",
    "  push:\n",
    "    branches: [ main ]\n",
    "jobs:\n",
    "  build:\n",
    "    runs-on: ubuntu-latest\n",
    "    steps:\n",
    "      - uses: actions/checkout@v2\n",
    "      - name: Run a one-line script\n",
    "        run: echo Hello, world!\n",
    "```"
   ]
  },
  {
   "cell_type": "markdown",
   "metadata": {},
   "source": [
    "Now let's understand this file, beginning at the top.\n",
    "\n",
    "* `name: CI` - It first labels everything that follows as the workflow `CI`.  \n",
    "* `on: push` Next is what triggers the workflow, a push to the branch `main`. \n",
    "\n",
    "* `jobs` - This is a listof the different jobs to run when the event occurs.\n",
    "* `build` - This is the name of the job.  So the first job we name is `build`, and it kicks off a series of steps.  The name can be anything, but `build` works well.  \n",
    "* `runs-on`: job will run on a computer maintained by github, so `runs-on` specifies that we want the job to run on a computer with the latest version of `ubuntu`.  This is similar to specifying an AMI of ubuntu for Amazon.\n",
    "\n",
    "Next comes the steps.  \n",
    "\n",
    "```\n",
    "steps:\n",
    "      - uses: actions/checkout@v2\n",
    "      - name: Run a one-line script\n",
    "        run: echo Hello, world!\n",
    "```\n",
    "\n",
    "* `uses: actions/checkout@v2` - is a an existing action defined by github.  So whenever we say `uses`, we an action defined elsewhere.  You can see the action defined [here](https://github.com/actions/checkout).\n",
    "\n",
    "So the `checkout@v2` step downloads our current repository onto our action's ubuntu machine.\n",
    "\n",
    "Then the next step is simply to run `echo Hello, world!`, which displays that on the terminal.  And we named that step `Run a one-line script`."
   ]
  },
  {
   "cell_type": "markdown",
   "metadata": {},
   "source": [
    "### Kicking off an action\n",
    "\n",
    "Ok, so everything above is written in a `main.yml` file, which is simply a file stored in the `.github/workflows` folder of our repository.  \n",
    "\n",
    "We can click the green `Start commit` button to save the action in our repository.  "
   ]
  },
  {
   "cell_type": "markdown",
   "metadata": {},
   "source": [
    "<img src=\"./start-commit.png\" width=\"100%\">"
   ]
  },
  {
   "cell_type": "markdown",
   "metadata": {},
   "source": [
    "Clicking the button makes a new commit to our `main` branch, so this in itself is equivalent to a push event to `main` and will kick off an action.\n",
    "\n",
    "Let's take a look.\n",
    "\n",
    "If we click the `Actions` button, we'll see workflow that was run by Github."
   ]
  },
  {
   "cell_type": "markdown",
   "metadata": {},
   "source": [
    "<img src=\"./build-log.png\" width=\"80%\">"
   ]
  },
  {
   "cell_type": "markdown",
   "metadata": {},
   "source": [
    "Begin by focusing towards the left.  Remember that CI is the name of the workflow, and `build` is the name of the job that was run as part of the workflow.  \n",
    "\n",
    "Then if we click on the `build` job, we'll see a log of the steps run in that job.  So first is setting up the job, then is that predefined step `actions/checkout@v2` which downloads our repository to the ubuntu machine, and finally the step that we defined of running a one-line script.  So the steps were named by the `name` key in our yaml file, and the task performed was defined in `run`.  We can click on an individual step to see a log of what occurred."
   ]
  },
  {
   "cell_type": "markdown",
   "metadata": {},
   "source": [
    "### Do it again"
   ]
  },
  {
   "cell_type": "markdown",
   "metadata": {},
   "source": [
    "Ok, so now we may have a bit of a sense of what it means to use github actions.  We define a workflow in yaml file, and then a workflow has many jobs, and each job has many steps.  We can use either a predefined step like `actions/checkout@v2` or a step that we write ourself with a `name` and `run` command defined."
   ]
  },
  {
   "cell_type": "markdown",
   "metadata": {},
   "source": [
    "So with this in mind let's add another job to our workflow called `teardown` with a single step that runs the commmand named `goodbye` which runs the command `echo goodbye everyone`."
   ]
  },
  {
   "cell_type": "markdown",
   "metadata": {},
   "source": [
    "> Let's take another look at our yaml file."
   ]
  },
  {
   "cell_type": "markdown",
   "metadata": {},
   "source": [
    "```yaml\n",
    "# main.yml\n",
    "name: CI\n",
    "on:\n",
    "  push:\n",
    "    branches: [ main ]\n",
    "jobs:\n",
    "  build:\n",
    "    runs-on: ubuntu-latest\n",
    "    steps:\n",
    "      - uses: actions/checkout@v2\n",
    "      - name: Run a one-line script\n",
    "        run: echo Hello, world!\n",
    "```"
   ]
  },
  {
   "cell_type": "markdown",
   "metadata": {},
   "source": [
    "Now we can add the following to the file."
   ]
  },
  {
   "cell_type": "markdown",
   "metadata": {},
   "source": [
    "```yaml\n",
    "# main.yml\n",
    "name: CI\n",
    "on:\n",
    "  push:\n",
    "    branches: [ main ]\n",
    "jobs:\n",
    "  build:\n",
    "    runs-on: ubuntu-latest\n",
    "    steps:\n",
    "      - uses: actions/checkout@v2\n",
    "      - name: Run a one-line script\n",
    "        run: echo Hello, world!\n",
    "  teardown:\n",
    "    runs-on: ubuntu-latest\n",
    "    steps:\n",
    "      - name: Goodbye\n",
    "        run: echo goodbye everyone.\n",
    "```"
   ]
  },
  {
   "cell_type": "markdown",
   "metadata": {},
   "source": [
    "If we add this to our workflow file and make a commit to the main branch, we'll see github run another action."
   ]
  },
  {
   "cell_type": "markdown",
   "metadata": {},
   "source": [
    "<img src=\"./github-added-job-teardown.png\" width=\"90%\">"
   ]
  },
  {
   "cell_type": "markdown",
   "metadata": {},
   "source": [
    "### Summary"
   ]
  },
  {
   "cell_type": "markdown",
   "metadata": {},
   "source": [
    "In this lesson we learned the some of the fundamentals of github actions.  We saw that we can write a workflow by adding a yaml file to the `.github/workflows` folder.  A workflow is kicked off an event, like the push event to the main branch.\n",
    "\n",
    "```\n",
    "on:\n",
    "  push:\n",
    "    branches: [ main ]\n",
    "```\n",
    "\n",
    "Then we can specify one or more jobs in a workflow, where we specify the machine used to run the job, and the steps involved in each job.  For example, we wrote our build job with the following:\n",
    "```yaml\n",
    "jobs:\n",
    "  build:\n",
    "    runs-on: ubuntu-latest\n",
    "    steps:\n",
    "      - uses: actions/checkout@v2\n",
    "      - name: Run a one-line script\n",
    "        run: echo Hello, world!\n",
    "```\n",
    "\n",
    "The job involves two steps, one of which was a predefined, and the other which we defined with the `name` and `run` keys."
   ]
  },
  {
   "cell_type": "markdown",
   "metadata": {},
   "source": [
    "### Resources"
   ]
  },
  {
   "cell_type": "markdown",
   "metadata": {},
   "source": [
    "[CI CD Github Actions](https://medium.com/swlh/get-started-with-ci-cd-using-github-actions-ca32d34b2943)"
   ]
  },
  {
   "cell_type": "markdown",
   "metadata": {},
   "source": [
    "[Github Actions Documentation](https://docs.github.com/en/free-pro-team@latest/actions/reference/workflow-commands-for-github-actions)"
   ]
  }
 ],
 "metadata": {
  "kernelspec": {
   "display_name": "Python 3 (ipykernel)",
   "language": "python",
   "name": "python3"
  },
  "language_info": {
   "codemirror_mode": {
    "name": "ipython",
    "version": 3
   },
   "file_extension": ".py",
   "mimetype": "text/x-python",
   "name": "python",
   "nbconvert_exporter": "python",
   "pygments_lexer": "ipython3",
   "version": "3.10.14"
  }
 },
 "nbformat": 4,
 "nbformat_minor": 4
}
