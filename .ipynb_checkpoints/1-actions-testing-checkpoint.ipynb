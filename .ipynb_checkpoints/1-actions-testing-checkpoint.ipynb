{
 "cells": [
  {
   "cell_type": "markdown",
   "metadata": {},
   "source": [
    "# Continuous Integration with Github Actions"
   ]
  },
  {
   "cell_type": "markdown",
   "metadata": {},
   "source": [
    "### Introduction"
   ]
  },
  {
   "cell_type": "markdown",
   "metadata": {},
   "source": [
    "In the last lesson, we were introduced to github actions.  As we saw, we can use github actions to kick off one or more jobs after an event occurs, like a push to github.  In this lesson, we'll see how to use github actions to automatically run tests upon a push to a branch in github."
   ]
  },
  {
   "cell_type": "markdown",
   "metadata": {},
   "source": [
    "### Setting up our Codebase"
   ]
  },
  {
   "cell_type": "markdown",
   "metadata": {},
   "source": [
    "Let's get started by setting up a codebase that both has a script has a script that both defines some functions and a script that then tests those functions.  Let's get started.\n",
    "\n",
    "We'll start by creating a file called `app.py` has a single function."
   ]
  },
  {
   "cell_type": "markdown",
   "metadata": {},
   "source": [
    "```python \n",
    "# app.py\n",
    "def adds_one(number):\n",
    "    return number +1\n",
    "```"
   ]
  },
  {
   "cell_type": "markdown",
   "metadata": {},
   "source": [
    "And then we can write a corresponding test file that tests the function."
   ]
  },
  {
   "cell_type": "markdown",
   "metadata": {},
   "source": [
    "```python\n",
    "# test_app.py\n",
    "from app import adds_one\n",
    "def test_adds_one():\n",
    "    assert adds_one(1) == 2\n",
    "```"
   ]
  },
  {
   "cell_type": "markdown",
   "metadata": {},
   "source": [
    "And running pytest we can see that this works."
   ]
  },
  {
   "cell_type": "markdown",
   "metadata": {},
   "source": [
    "<img src=\"./testing-code.png\" width=\"90%\">"
   ]
  },
  {
   "cell_type": "markdown",
   "metadata": {},
   "source": [
    "### Continuous Integration on Github"
   ]
  },
  {
   "cell_type": "markdown",
   "metadata": {},
   "source": [
    "Now let's see if we can use github actions so that tests automatically run on a github machine whenever we make push to our main branch.  Let's get started.  Inside our folder, we can create a repository by running `git init`.  Then, we can create a `.github/workflows` folder and add a `main.yml` file inside of it to create a workflow."
   ]
  },
  {
   "cell_type": "markdown",
   "metadata": {},
   "source": [
    "```yaml\n",
    "name: continuous integration\n",
    "on:\n",
    "  push:\n",
    "    branches: [ main ]\n",
    "jobs:\n",
    "  test_codebase:\n",
    "    runs-on: ubuntu-latest\n",
    "    steps:\n",
    "      - uses: actions/checkout@v2\n",
    "      - name: run tests\n",
    "        run: pytest\n",
    "```"
   ]
  },
  {
   "cell_type": "markdown",
   "metadata": {},
   "source": [
    "Then pushing up our code, we'll see that the `test_codebase` job fails as pytest is not installed."
   ]
  },
  {
   "cell_type": "markdown",
   "metadata": {},
   "source": [
    "<img src=\"./build-pytest-fail.png\" width=\"80%\">"
   ]
  },
  {
   "cell_type": "markdown",
   "metadata": {},
   "source": [
    "This makes sense.  Remember that our github action runs on the computer with ubuntu software on it, but it does not necessarily have pytest, or even Python installed.  So to get our tests working we should create a `requirements.txt` file that will allow us to easily install pytest."
   ]
  },
  {
   "cell_type": "markdown",
   "metadata": {},
   "source": [
    "```python\n",
    "# requirements.txt\n",
    "pytest\n",
    "```"
   ]
  },
  {
   "cell_type": "markdown",
   "metadata": {},
   "source": [
    "And then add the following to our `main.yml` file."
   ]
  },
  {
   "cell_type": "markdown",
   "metadata": {},
   "source": [
    "```yaml\n",
    "name: continuous integration\n",
    "on:\n",
    "  push:\n",
    "    branches: [ master ]\n",
    "jobs:\n",
    "  test_codebase:\n",
    "    runs-on: ubuntu-latest\n",
    "    steps:\n",
    "      - uses: actions/checkout@v2\n",
    "      - name: Set up Python 3.6\n",
    "        uses: actions/setup-python@v1\n",
    "        with:\n",
    "          python-version: \"3.6\"\n",
    "      - name: Install dependencies\n",
    "        run: |\n",
    "          python3 -m pip install --upgrade pip\n",
    "          pip3 install -r requirements.txt\n",
    "      - name: run tests\n",
    "        run: pytest\n",
    "```"
   ]
  },
  {
   "cell_type": "markdown",
   "metadata": {},
   "source": [
    "Ok, let's take a look at the changes that we made to our workflow.  Now our `test_codebase` job:\n",
    "\n",
    "* Uses an ubuntu environment\n",
    "* Then it checks out the github repository, \n",
    "* And then we use the `actions/setup-python@v1` to install Python, \n",
    "* And finally we install pip, as well as our pip packages specified in the `requirements.txt` file.  \n",
    "* Then after the packages are installed we run the `pytest` command."
   ]
  },
  {
   "cell_type": "markdown",
   "metadata": {},
   "source": [
    "If we push our changes to the `main` branch on github, we see that each of these steps are completed.  And clicking on the `run tests` step, we see that pytest is run successfully."
   ]
  },
  {
   "cell_type": "markdown",
   "metadata": {},
   "source": [
    "<img src=\"./passing-tests.png\" width=\"60%\">"
   ]
  },
  {
   "cell_type": "markdown",
   "metadata": {},
   "source": [
    "### Resources\n",
    "\n",
    "[Protected Branches](https://www.freecodecamp.org/news/what-are-github-actions-and-how-can-you-automate-tests-and-slack-notifications/#part-1-automating-tests)"
   ]
  }
 ],
 "metadata": {
  "kernelspec": {
   "display_name": "Python 3 (ipykernel)",
   "language": "python",
   "name": "python3"
  },
  "language_info": {
   "codemirror_mode": {
    "name": "ipython",
    "version": 3
   },
   "file_extension": ".py",
   "mimetype": "text/x-python",
   "name": "python",
   "nbconvert_exporter": "python",
   "pygments_lexer": "ipython3",
   "version": "3.10.13"
  }
 },
 "nbformat": 4,
 "nbformat_minor": 4
}
